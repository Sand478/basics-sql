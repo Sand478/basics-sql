{
 "cells": [
  {
   "attachments": {},
   "cell_type": "markdown",
   "metadata": {},
   "source": [
    "# Шпаргалка по SQL\n",
    "\n",
    "SQL (Structured Query Language) - это язык запросов к базам данных, структурированных особым образом.\n",
    "Реляционные базы данных - это базы данных с определенными связями между данными (таблицы и связи между таблицами). В таблице (базе данных), обычно представляется тип сущности, каждая строка - это экземпляр объекта, а столбец - это атрибут (признак) объекта. Каждому столбцу присвен тип данных.\n",
    "Каждая строка имеет свой уникальный ключ. Строки одной таблицы можно связать с другой таблицей. Тогда столбец с ключами другой таблицы будет называться \"внешними ключами\". Помимо первичных ключей в таблице могут быть естественные ключи, называемые альтернативными.\n",
    "СУБД (Система управления базами данных) - это языковые и програмные средства, которыми осуществляется доступ к данным."
   ]
  },
  {
   "attachments": {},
   "cell_type": "markdown",
   "metadata": {},
   "source": [
    "Учебник по SQL https://sql-academy.org/ru/guide\n",
    "\n",
    "Онлайн тренажер - https://sql-academy.org/ru/trainer?sort=byId"
   ]
  },
  {
   "attachments": {},
   "cell_type": "markdown",
   "metadata": {},
   "source": [
    "## Cоздание базы данных на виртуальной машине, организация доступа и примеры запросов."
   ]
  },
  {
   "attachments": {},
   "cell_type": "markdown",
   "metadata": {},
   "source": [
    "### Создание виртуальной машины на Yandex Cloud\n",
    "1. Жмем кнопку \"Подключиться\" в правом верхнем углу страницы https://cloud.yandex.ru/.\n",
    "2. Создайте ваше первое облако. Жмем \"Создать\".\n",
    "3. В верхнем правом углу жмем \"Создать ресурс\" и выбираем \"виртуальная машина\".\n",
    "4. Вводим имя машины, выбираем Ubuntu. Диск ставим 20 Гб HDD.\n",
    "5. Параметры вычислительных ресурсов для учебной работы с SQL можно взять следующие:\n",
    "- платформа \"Intel Cascade Lake\"\n",
    "- гарантированная доля vCPU - 5%.\n",
    "- RAM - 4Гб\n",
    "- Дополнительно - прерываемая (виртуальная машина будет каждые сутки останавливаться). Так дольше проработает на пробном периоде.\n",
    "- Логин - нужен будет для доступа, например, log.\n",
    "- SSH-ключ. Нужно будет ввести для простого доступа без пароля (должен быть заранее создан и установлен на компьютере).\n",
    "6. Записываем логин и внешний публичный IP адрес. Жмем \"Создать BM\". Если Яндекс попросит создать платежный аккаунт - создаем.\n",
    "\n",
    "\n"
   ]
  },
  {
   "attachments": {},
   "cell_type": "markdown",
   "metadata": {},
   "source": [
    "### Установка СУБД PostgreSQL\n",
    "1. Заходим в консоль.\n",
    "2. Попадаем на виртуальную машину. Для этого вводим в консоль следующее: ssh [имя]@[внешний IP адрес], например:\n",
    "> ssh log@158.160.49.90.\n",
    "3. Установка описана на странице: https://www.postgresql.org/download/linux/ubuntu/\n",
    "\n",
    "Копируем (можно за один раз) всё из следующего блока и запускаем в консоли виртуальной машины:"
   ]
  },
  {
   "cell_type": "code",
   "execution_count": null,
   "metadata": {
    "vscode": {
     "languageId": "plaintext"
    }
   },
   "outputs": [],
   "source": [
    "# Create the file repository configuration:\n",
    "sudo sh -c 'echo \"deb http://apt.postgresql.org/pub/repos/apt $(lsb_release -cs)-pgdg main\" > /etc/apt/sources.list.d/pgdg.list'\n",
    "\n",
    "# Import the repository signing key:\n",
    "wget --quiet -O - https://www.postgresql.org/media/keys/ACCC4CF8.asc | sudo apt-key add -\n",
    "\n",
    "# Update the package lists:\n",
    "sudo apt-get update\n",
    "\n",
    "# Install the latest version of PostgreSQL.\n",
    "# If you want a specific version, use 'postgresql-12' or similar instead of 'postgresql':\n",
    "sudo apt-get -y install postgresql"
   ]
  },
  {
   "attachments": {},
   "cell_type": "markdown",
   "metadata": {},
   "source": [
    "### Восстановление дампа учебной базы данных\n",
    "1. Консолью заходим на виртуальную машину:\n",
    "> ssh log@158.160.49.90.\n",
    "2. Устанавливаем unzip.\n",
    "3. Переходим на пользователя postgres:\n",
    "> sudo -i -u postgres.\n",
    "4. Скачиваем архив с базой данных:\n",
    "> wget https://edu.postgrespro.ru/demo-big.zip\n",
    "5. Распаковываем:\n",
    "> unzip demo-big.zip\n",
    "6. Разворачиваем (от 30 минут) дамп базы данных:\n",
    "> psql -f demo-big-20170815.sql -U postgres\n",
    "7. Заходим в базу данных:\n",
    "> psql demo.\n",
    "8. Пробуем посмотреть список таблиц:\n",
    "> \\d\n",
    " Структура базы данных описана на странице https://postgrespro.ru/docs/postgrespro/15/apks02.html"
   ]
  },
  {
   "attachments": {},
   "cell_type": "markdown",
   "metadata": {},
   "source": [
    "### Использование графического интерфейса DBeaver\n",
    "Подготовка сервера.\n",
    "1. Заходим на виртуальную машину\n",
    "> ssh log@158.160.49.90.\n",
    "2. Заходим в пользователя postgres:\n",
    "> sudo -i -u postgres\n",
    "3. Задаем пароль (появится текстовый запрос пароля),\n",
    "записываем или запоминаем, он будет нужен при настройке DBeaver:\n",
    ">\\password postgres\n",
    "4. Редактируем первый конфиг:\n",
    "> sudo nano /etc/postgresql/15/main/postgresql.conf\n",
    "Раскомментируем или добавляем новую строку:\n",
    "listen_addresses = '*'\n",
    "5. Редактируем второй конфиг:\n",
    ">sudo nano /etc/postgresql/15/main/pg_hba.conf\n",
    "Добавляем строку:\n",
    "host all all 0.0.0.0/0 md5\n",
    "6. Перезапускаем postgres:\n",
    "sudo systemctl restart postgresql\n",
    "7. Проверяем подключение к базе данных `psql -h <REMOTE HOST> -p <REMOTE PORT> -U <DB_USER> <DB_NAME>` (меняем внешний IP 158.160.49.90 на свой):\n",
    "> psql -h 158.160.49.90 -p 5432 -U postgres.\n",
    "\n",
    "8. Скачиваем DBeaver:\n",
    "> sudo snap install dbeaver-ce.\n",
    "9. Запускаем DBeaver.\n",
    "10. Создаем новое подключение: Файл -> Новый -> Database Connection -> Далее -> PostgreSQL -> Далее.\n",
    "11. Настраиваем новое соединение:\n",
    "Хост: пишем внешний IP адрес виртуальной машины, например 158.160.49.90.\n",
    "База данных, меняем на demo.\n",
    "Вводим пароль для пользователя, который создали выше в пункте 3.\n",
    "Жмем \"Готово\".\n",
    "12. Жмем \"Подключиться\".\n",
    "Если не получилось, можно попробовать закрыть программу и заново создать подключение. В крайнем случае можно работать из консоли."
   ]
  },
  {
   "attachments": {},
   "cell_type": "markdown",
   "metadata": {},
   "source": [
    "### Примеры запросов к базе данных\n",
    "Её структура на странице https://postgrespro.ru/docs/postgrespro/15/apks02.html.\n",
    "\n",
    "1. Куда, в какие дни недели и за какое время можно долететь из Волгограда:\n",
    "SELECT *\n",
    "FROM   routes\n",
    "WHERE  departure_city = 'Волгоград';\n",
    "\n",
    "2. Ближайший рейс, вылетающий из Екатеринбурга в Москву (текущий момент времени демонстрационной базы вызывается функцией `SELECT bookings.now() as now;`):\n",
    "select * From flights\n",
    "inner join routes on flights.arrival_airport = routes.arrival_airport \n",
    "--select * From routes r \n",
    "where departure_city = 'Екатеринбург' and arrival_city = 'Москва' and scheduled_departure > bookings.now()\n",
    "ORDER BY scheduled_departure\n",
    "LIMIT    1;\n",
    "\n",
    "3. 10 бронирований с самой высокой стоимостью:\n",
    "select book_ref From Bookings\n",
    "order by total_amount DESC\n",
    "limit 10\n",
    "\n",
    "4. В какие города летали пассажиры с самой высокой стоимостью бронирования?\n",
    "select distinct city From Bookings\n",
    "inner join tickets on Bookings.book_ref = tickets.book_ref\n",
    "inner join ticket_flights on tickets.ticket_no = ticket_flights.ticket_no\n",
    "inner join flights on ticket_flights.flight_id = flights.flight_id\n",
    "inner join airports on flights.arrival_airport = airports.airport_code\n",
    "where Bookings.book_ref in (select book_ref From Bookings\n",
    "order by total_amount DESC\n",
    "limit 10);"
   ]
  }
 ],
 "metadata": {
  "language_info": {
   "name": "python"
  },
  "orig_nbformat": 4
 },
 "nbformat": 4,
 "nbformat_minor": 2
}
